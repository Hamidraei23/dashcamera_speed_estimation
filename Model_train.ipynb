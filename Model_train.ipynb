{
 "cells": [
  {
   "cell_type": "code",
   "execution_count": 1,
   "metadata": {},
   "outputs": [],
   "source": [
    "import keras"
   ]
  },
  {
   "cell_type": "code",
   "execution_count": 2,
   "metadata": {},
   "outputs": [],
   "source": [
    "from keras import layers, models"
   ]
  },
  {
   "cell_type": "code",
   "execution_count": 3,
   "metadata": {},
   "outputs": [],
   "source": [
    "import numpy as np\n",
    "import keras\n",
    "from keras.models import Sequential\n",
    "from keras.layers import Dense, Dropout, Flatten\n",
    "from keras.layers import Conv2D, MaxPooling2D\n",
    "from keras.optimizers import Adam\n",
    "from keras.models import load_model\n",
    "from tensorflow.python.client import device_lib\n",
    "from keras import backend as K\n",
    "import tensorflow as tf\n",
    "import cv2"
   ]
  },
  {
   "cell_type": "code",
   "execution_count": 4,
   "metadata": {},
   "outputs": [],
   "source": [
    "import cv2\n",
    "import numpy as np\n",
    "import os, time, sys, shutil"
   ]
  },
  {
   "cell_type": "code",
   "execution_count": 5,
   "metadata": {},
   "outputs": [],
   "source": [
    "file = open(\"/home/hamidraei/Odometry_project/train.txt\")\n",
    "speedTruthArrayString = file.readlines()\n",
    "speedTruthArray = []\n",
    "for numeric_string in speedTruthArrayString:\n",
    "    numeric_string = numeric_string.strip('\\n')\n",
    "    speedTruthArray.append(float(numeric_string))"
   ]
  },
  {
   "cell_type": "code",
   "execution_count": 6,
   "metadata": {},
   "outputs": [
    {
     "data": {
      "text/plain": [
       "(20400, 1)"
      ]
     },
     "execution_count": 6,
     "metadata": {},
     "output_type": "execute_result"
    }
   ],
   "source": [
    "y = np.asarray(speedTruthArray)\n",
    "y = y.reshape(y.shape[0], 1)\n",
    "y.shape"
   ]
  },
  {
   "cell_type": "code",
   "execution_count": 7,
   "metadata": {},
   "outputs": [],
   "source": [
    "X1 = []\n",
    "X2 = []"
   ]
  },
  {
   "cell_type": "code",
   "execution_count": 8,
   "metadata": {},
   "outputs": [],
   "source": [
    "\n",
    "flow_mat = None\n",
    "image_scale = 0.5\n",
    "nb_images = 1\n",
    "win_size = 15\n",
    "nb_iterations = 2\n",
    "deg_expansion = 5\n",
    "STD = 1.3\n"
   ]
  },
  {
   "cell_type": "code",
   "execution_count": 9,
   "metadata": {},
   "outputs": [],
   "source": [
    "for i in range(20399):\n",
    "    if i == 0:\n",
    "        A = cv2.imread(f'/home/hamidraei/Odometry_project/Cannyview/{i}.jpg', 0)\n",
    "        B = cv2.imread(f'/home/hamidraei/Odometry_project/Cannyview/{i+1}.jpg', 0)\n",
    "        flow = cv2.calcOpticalFlowFarneback(A, B,flow_mat,image_scale,nb_images,win_size,\n",
    "                                            nb_iterations,\n",
    "                                            deg_expansion,\n",
    "                                            STD,\n",
    "                                            0)\n",
    "        \n",
    "        \n",
    "        X1.append(flow)\n",
    "        X1.append(flow)\n",
    "        \n",
    "        #Q = cv2.imread('/home/hamidraei/Odometry_project/Cannyview/1.jpg')\n",
    "        #hsv = np.zeros_like(Q)\n",
    "        #hsv[..., 1] = 255\n",
    "        #mag, ang = cv2.cartToPolar(flow[..., 0], flow[..., 1])\n",
    "        #hsv[..., 0] = ang * 180 / np.pi / 2\n",
    "        #hsv[..., 2] = cv2.normalize(mag, None, 0, 255, cv2.NORM_MINMAX)\n",
    "        #C = cv2.cvtColor(hsv, cv2.COLOR_HSV2BGR)\n",
    "        #cv2.imwrite(f'/home/hamidraei/Odometry_project/Cannyview_opticalflow/{i}.jpg',C)\n",
    "        \n",
    "        #cv2.imwrite(f'/home/hamidraei/Odometry_project/Cannyview_opticalflow/{i+1}.jpg',C)\n",
    "                                            \n",
    "                                            \n",
    "                                            \n",
    "    else:\n",
    "        A = cv2.imread(f'/home/hamidraei/Odometry_project/Cannyview/{i}.jpg', 0)\n",
    "        B = cv2.imread(f'/home/hamidraei/Odometry_project/Cannyview/{i+1}.jpg', 0)\n",
    "        flow = cv2.calcOpticalFlowFarneback(A, B,flow_mat,image_scale,nb_images,win_size,\n",
    "                                            nb_iterations,\n",
    "                                            deg_expansion,\n",
    "                                            STD,\n",
    "                                            0)\n",
    "        \n",
    "        X1.append(flow)\n",
    "        \n",
    "        #Q = cv2.imread('/home/hamidraei/Odometry_project/Cannyview/1.jpg')\n",
    "        #hsv = np.zeros_like(Q)\n",
    "        #hsv[..., 1] = 255\n",
    "        #mag, ang = cv2.cartToPolar(flow[..., 0], flow[..., 1])\n",
    "        #hsv[..., 0] = ang * 180 / np.pi / 2\n",
    "        #hsv[..., 2] = cv2.normalize(mag, None, 0, 255, cv2.NORM_MINMAX)\n",
    "        #C = cv2.cvtColor(hsv, cv2.COLOR_HSV2BGR)\n",
    "        #cv2.imwrite(f'/home/hamidraei/Odometry_project/Cannyview_opticalflow/{i}.jpg',C)\n",
    "        \n",
    "        #cv2.imwrite(f'/home/hamidraei/Odometry_project/Cannyview_opticalflow/{i+1}.jpg',C)\n",
    "        #print(i)\n",
    "        \n",
    "    "
   ]
  },
  {
   "cell_type": "code",
   "execution_count": 10,
   "metadata": {},
   "outputs": [
    {
     "data": {
      "text/plain": [
       "20400"
      ]
     },
     "execution_count": 10,
     "metadata": {},
     "output_type": "execute_result"
    }
   ],
   "source": [
    "len(X1)"
   ]
  },
  {
   "cell_type": "code",
   "execution_count": 11,
   "metadata": {},
   "outputs": [],
   "source": [
    "input_shape = X1[1].shape"
   ]
  },
  {
   "cell_type": "code",
   "execution_count": 12,
   "metadata": {},
   "outputs": [],
   "source": [
    "X = np.array(X1)"
   ]
  },
  {
   "cell_type": "code",
   "execution_count": 13,
   "metadata": {},
   "outputs": [
    {
     "data": {
      "text/plain": [
       "(20400, 66, 320, 2)"
      ]
     },
     "execution_count": 13,
     "metadata": {},
     "output_type": "execute_result"
    }
   ],
   "source": [
    "X.shape"
   ]
  },
  {
   "cell_type": "code",
   "execution_count": 14,
   "metadata": {},
   "outputs": [],
   "source": [
    "import matplotlib.pyplot as plt\n",
    "\n",
    "def plot_loss(history):\n",
    "    plt.plot(history.history['loss'])\n",
    "    plt.plot(history.history['val_loss'])\n",
    "    plt.title('Model Loss')\n",
    "    plt.ylabel('Loss')\n",
    "    plt.xlabel('Epoch')\n",
    "    plt.legend(['Train', 'Validation'], loc=0)\n",
    "    \n",
    "#def plot_acc(history):\n",
    " #   plt.plot(history.history['accuracy'])\n",
    "  #  plt.plot(history.history['val_accuracy'])\n",
    "   # plt.title('Model Accuracy')\n",
    "    #plt.ylabel('Accuracy')\n",
    "    #plt.xlabel('Epoch')\n",
    "    #plt.legend(['Train', 'Validation'], loc=0)"
   ]
  },
  {
   "cell_type": "code",
   "execution_count": 15,
   "metadata": {},
   "outputs": [],
   "source": [
    "def CNN_function(input_shape):\n",
    "    model = models.Sequential()\n",
    "    model.add(layers.Conv2D(24, kernel_size =(5,5), activation = 'elu', input_shape = input_shape))\n",
    "    model.add(layers.MaxPool2D(pool_size=(2,2)))\n",
    "    model.add(layers.Conv2D(32, (5, 5), activation = 'elu'))\n",
    "    model.add(layers.MaxPool2D(pool_size=(2,2)))\n",
    "    model.add(layers.Conv2D(40, (5, 5), activation = 'elu'))\n",
    "    model.add(layers.MaxPool2D(pool_size=(2,2)))\n",
    "    model.add(layers.Dropout(0.25))\n",
    "    model.add(layers.Flatten())\n",
    "    model.add(layers.Dense(1600, activation = 'elu'))\n",
    "    model.add(layers.Dropout(0.5))\n",
    "    model.add(layers.Dense(400, activation = 'elu'))\n",
    "    model.add(layers.Dropout(0.5))\n",
    "    model.add(layers.Dense(100, activation = 'elu'))\n",
    "    model.add(layers.Dense(10, activation = 'elu'))\n",
    "    \n",
    "#model.add(layers.Dense(1, activation = 'elu'))\n",
    "    model.add(layers.Dense(1, activation = 'relu'))\n",
    "    adam = keras.optimizers.Adam(lr=1e-5)\n",
    "    model.compile(loss='mse', optimizer=adam)\n",
    "    return model"
   ]
  },
  {
   "cell_type": "code",
   "execution_count": 15,
   "metadata": {},
   "outputs": [],
   "source": [
    "model = models.Sequential()\n",
    "model.add(layers.Conv2D(24, kernel_size =(5,5), activation = 'elu', input_shape = input_shape))\n",
    "model.add(layers.MaxPool2D(pool_size=(2,2)))\n",
    "model.add(layers.Conv2D(32, (5, 5), activation = 'elu'))\n",
    "model.add(layers.MaxPool2D(pool_size=(2,2)))\n",
    "model.add(layers.Conv2D(40, (5, 5), activation = 'elu'))\n",
    "model.add(layers.MaxPool2D(pool_size=(2,2)))\n",
    "model.add(layers.Dropout(0.25))\n",
    "model.add(layers.Flatten())\n",
    "model.add(layers.Dense(1600, activation = 'elu'))\n",
    "model.add(layers.Dropout(0.5))\n",
    "model.add(layers.Dense(400, activation = 'elu'))\n",
    "model.add(layers.Dropout(0.5))\n",
    "model.add(layers.Dense(100, activation = 'elu'))\n",
    "model.add(layers.Dense(10, activation = 'elu'))\n",
    "    \n",
    "#model.add(layers.Dense(1, activation = 'elu'))\n",
    "model.add(layers.Dense(1, activation = 'relu'))\n",
    "adam = keras.optimizers.Adam(lr=1e-5)\n",
    "model.compile(loss='mse', optimizer=adam)"
   ]
  },
  {
   "cell_type": "code",
   "execution_count": 16,
   "metadata": {},
   "outputs": [
    {
     "name": "stdout",
     "output_type": "stream",
     "text": [
      "Model: \"sequential\"\n",
      "_________________________________________________________________\n",
      "Layer (type)                 Output Shape              Param #   \n",
      "=================================================================\n",
      "conv2d (Conv2D)              (None, 62, 316, 24)       1224      \n",
      "_________________________________________________________________\n",
      "max_pooling2d (MaxPooling2D) (None, 31, 158, 24)       0         \n",
      "_________________________________________________________________\n",
      "conv2d_1 (Conv2D)            (None, 27, 154, 32)       19232     \n",
      "_________________________________________________________________\n",
      "max_pooling2d_1 (MaxPooling2 (None, 13, 77, 32)        0         \n",
      "_________________________________________________________________\n",
      "conv2d_2 (Conv2D)            (None, 9, 73, 40)         32040     \n",
      "_________________________________________________________________\n",
      "max_pooling2d_2 (MaxPooling2 (None, 4, 36, 40)         0         \n",
      "_________________________________________________________________\n",
      "dropout (Dropout)            (None, 4, 36, 40)         0         \n",
      "_________________________________________________________________\n",
      "flatten (Flatten)            (None, 5760)              0         \n",
      "_________________________________________________________________\n",
      "dense (Dense)                (None, 1600)              9217600   \n",
      "_________________________________________________________________\n",
      "dropout_1 (Dropout)          (None, 1600)              0         \n",
      "_________________________________________________________________\n",
      "dense_1 (Dense)              (None, 400)               640400    \n",
      "_________________________________________________________________\n",
      "dropout_2 (Dropout)          (None, 400)               0         \n",
      "_________________________________________________________________\n",
      "dense_2 (Dense)              (None, 100)               40100     \n",
      "_________________________________________________________________\n",
      "dense_3 (Dense)              (None, 10)                1010      \n",
      "_________________________________________________________________\n",
      "dense_4 (Dense)              (None, 1)                 11        \n",
      "=================================================================\n",
      "Total params: 9,951,617\n",
      "Trainable params: 9,951,617\n",
      "Non-trainable params: 0\n",
      "_________________________________________________________________\n"
     ]
    }
   ],
   "source": [
    "model.summary()"
   ]
  },
  {
   "cell_type": "markdown",
   "metadata": {},
   "source": []
  },
  {
   "cell_type": "code",
   "execution_count": 17,
   "metadata": {},
   "outputs": [
    {
     "name": "stdout",
     "output_type": "stream",
     "text": [
      "Epoch 1/70\n",
      "  1/542 [..............................] - ETA: 0s - loss: 222.2311WARNING:tensorflow:Callbacks method `on_train_batch_end` is slow compared to the batch time (batch time: 0.0161s vs `on_train_batch_end` time: 0.0268s). Check your callbacks.\n",
      "542/542 [==============================] - 24s 44ms/step - loss: 33.7575 - val_loss: 16.2880\n",
      "Epoch 2/70\n",
      "542/542 [==============================] - 23s 42ms/step - loss: 18.1024 - val_loss: 14.4975\n",
      "Epoch 3/70\n",
      "542/542 [==============================] - 23s 42ms/step - loss: 14.9307 - val_loss: 13.6997\n",
      "Epoch 4/70\n",
      "542/542 [==============================] - 23s 42ms/step - loss: 13.3156 - val_loss: 12.5299\n",
      "Epoch 5/70\n",
      "542/542 [==============================] - 23s 42ms/step - loss: 12.1197 - val_loss: 14.3715\n",
      "Epoch 6/70\n",
      "542/542 [==============================] - 24s 43ms/step - loss: 11.2868 - val_loss: 13.0511\n",
      "Epoch 7/70\n",
      "542/542 [==============================] - 23s 43ms/step - loss: 10.7366 - val_loss: 10.9872\n",
      "Epoch 8/70\n",
      "542/542 [==============================] - 24s 45ms/step - loss: 10.0058 - val_loss: 10.4937\n",
      "Epoch 9/70\n",
      "542/542 [==============================] - 25s 45ms/step - loss: 9.6452 - val_loss: 10.9434\n",
      "Epoch 10/70\n",
      "542/542 [==============================] - 24s 45ms/step - loss: 8.9888 - val_loss: 9.7066\n",
      "Epoch 11/70\n",
      "542/542 [==============================] - 24s 45ms/step - loss: 8.6992 - val_loss: 9.7540\n",
      "Epoch 12/70\n",
      "542/542 [==============================] - 24s 45ms/step - loss: 8.3092 - val_loss: 10.9893\n",
      "Epoch 13/70\n",
      "542/542 [==============================] - 24s 44ms/step - loss: 8.0338 - val_loss: 9.7594\n",
      "Epoch 14/70\n",
      "542/542 [==============================] - 24s 44ms/step - loss: 7.6352 - val_loss: 9.5119\n",
      "Epoch 15/70\n",
      "542/542 [==============================] - 24s 44ms/step - loss: 7.3833 - val_loss: 8.9253\n",
      "Epoch 16/70\n",
      "542/542 [==============================] - 24s 44ms/step - loss: 7.0985 - val_loss: 9.9052\n",
      "Epoch 17/70\n",
      "542/542 [==============================] - 24s 45ms/step - loss: 6.8778 - val_loss: 9.2058\n",
      "Epoch 18/70\n",
      "542/542 [==============================] - 24s 45ms/step - loss: 6.6217 - val_loss: 9.6406\n",
      "Epoch 19/70\n",
      "542/542 [==============================] - 24s 45ms/step - loss: 6.4805 - val_loss: 8.7350\n",
      "Epoch 20/70\n",
      "542/542 [==============================] - 24s 45ms/step - loss: 6.2672 - val_loss: 8.9198\n",
      "Epoch 21/70\n",
      "542/542 [==============================] - 24s 45ms/step - loss: 6.0765 - val_loss: 8.9583\n",
      "Epoch 22/70\n",
      "542/542 [==============================] - 24s 45ms/step - loss: 5.9242 - val_loss: 10.2165\n",
      "Epoch 23/70\n",
      "542/542 [==============================] - 24s 44ms/step - loss: 5.7320 - val_loss: 8.8533\n",
      "Epoch 24/70\n",
      "542/542 [==============================] - 23s 43ms/step - loss: 5.5437 - val_loss: 8.4269\n",
      "Epoch 25/70\n",
      "542/542 [==============================] - 23s 43ms/step - loss: 5.3621 - val_loss: 8.6244\n",
      "Epoch 26/70\n",
      "542/542 [==============================] - 23s 43ms/step - loss: 5.2667 - val_loss: 9.0505\n",
      "Epoch 27/70\n",
      "542/542 [==============================] - 23s 43ms/step - loss: 5.1003 - val_loss: 9.3750\n",
      "Epoch 28/70\n",
      "542/542 [==============================] - 23s 43ms/step - loss: 4.9828 - val_loss: 9.8859\n",
      "Epoch 29/70\n",
      "542/542 [==============================] - 23s 43ms/step - loss: 4.9221 - val_loss: 8.6680\n",
      "Epoch 30/70\n",
      "542/542 [==============================] - 24s 43ms/step - loss: 4.7459 - val_loss: 8.3961\n",
      "Epoch 31/70\n",
      "542/542 [==============================] - 23s 43ms/step - loss: 4.6342 - val_loss: 8.1150\n",
      "Epoch 32/70\n",
      "542/542 [==============================] - 23s 43ms/step - loss: 4.5277 - val_loss: 9.3170\n",
      "Epoch 33/70\n",
      "542/542 [==============================] - 23s 43ms/step - loss: 4.4521 - val_loss: 9.4669\n",
      "Epoch 34/70\n",
      "542/542 [==============================] - 23s 43ms/step - loss: 4.3037 - val_loss: 9.0838\n",
      "Epoch 35/70\n",
      "542/542 [==============================] - 23s 43ms/step - loss: 4.2933 - val_loss: 7.7814\n",
      "Epoch 36/70\n",
      "542/542 [==============================] - 23s 43ms/step - loss: 4.1036 - val_loss: 10.0064\n",
      "Epoch 37/70\n",
      "542/542 [==============================] - 23s 43ms/step - loss: 3.9259 - val_loss: 8.6945\n",
      "Epoch 38/70\n",
      "542/542 [==============================] - 23s 43ms/step - loss: 3.9208 - val_loss: 8.8439\n",
      "Epoch 39/70\n",
      "542/542 [==============================] - 23s 43ms/step - loss: 3.8218 - val_loss: 8.6744\n",
      "Epoch 40/70\n",
      "542/542 [==============================] - 23s 43ms/step - loss: 3.7318 - val_loss: 8.7244\n",
      "Epoch 41/70\n",
      "542/542 [==============================] - 23s 43ms/step - loss: 3.6638 - val_loss: 7.7715\n",
      "Epoch 42/70\n",
      "542/542 [==============================] - 24s 44ms/step - loss: 3.5940 - val_loss: 7.4609\n",
      "Epoch 43/70\n",
      "542/542 [==============================] - 23s 43ms/step - loss: 3.5533 - val_loss: 7.7897\n",
      "Epoch 44/70\n",
      "542/542 [==============================] - 23s 43ms/step - loss: 3.4192 - val_loss: 8.5234\n",
      "Epoch 45/70\n",
      "542/542 [==============================] - 23s 43ms/step - loss: 3.4064 - val_loss: 8.2480\n",
      "Epoch 46/70\n",
      "542/542 [==============================] - 24s 44ms/step - loss: 3.2602 - val_loss: 8.5249\n",
      "Epoch 47/70\n",
      "542/542 [==============================] - 24s 43ms/step - loss: 3.2353 - val_loss: 8.6646\n",
      "Epoch 48/70\n",
      "542/542 [==============================] - 23s 43ms/step - loss: 3.2264 - val_loss: 7.6174\n",
      "Epoch 49/70\n",
      "542/542 [==============================] - 23s 43ms/step - loss: 3.1622 - val_loss: 8.5216\n",
      "Epoch 50/70\n",
      "542/542 [==============================] - 23s 43ms/step - loss: 3.0951 - val_loss: 8.2277\n",
      "Epoch 51/70\n",
      "542/542 [==============================] - 24s 44ms/step - loss: 3.0453 - val_loss: 7.5999\n",
      "Epoch 52/70\n",
      "542/542 [==============================] - 24s 44ms/step - loss: 3.0145 - val_loss: 7.4964\n",
      "Epoch 53/70\n",
      "542/542 [==============================] - 23s 43ms/step - loss: 2.9222 - val_loss: 8.1556\n",
      "Epoch 54/70\n",
      "542/542 [==============================] - 23s 43ms/step - loss: 2.8323 - val_loss: 8.2927\n",
      "Epoch 55/70\n",
      "542/542 [==============================] - 23s 43ms/step - loss: 2.7735 - val_loss: 7.2816\n",
      "Epoch 56/70\n",
      "542/542 [==============================] - 24s 45ms/step - loss: 2.7306 - val_loss: 7.4593\n",
      "Epoch 57/70\n",
      "542/542 [==============================] - 25s 45ms/step - loss: 2.7302 - val_loss: 7.7079\n",
      "Epoch 58/70\n",
      "542/542 [==============================] - 24s 44ms/step - loss: 2.6887 - val_loss: 8.2464\n",
      "Epoch 59/70\n",
      "542/542 [==============================] - 24s 45ms/step - loss: 2.6354 - val_loss: 7.1309\n",
      "Epoch 60/70\n",
      "542/542 [==============================] - 24s 44ms/step - loss: 2.6005 - val_loss: 7.3668\n",
      "Epoch 61/70\n",
      "542/542 [==============================] - 23s 43ms/step - loss: 2.5653 - val_loss: 8.2379\n",
      "Epoch 62/70\n",
      "542/542 [==============================] - 23s 43ms/step - loss: 2.4834 - val_loss: 8.6408\n",
      "Epoch 63/70\n",
      "542/542 [==============================] - 23s 43ms/step - loss: 2.4822 - val_loss: 8.7911\n",
      "Epoch 64/70\n",
      "542/542 [==============================] - 23s 43ms/step - loss: 2.4106 - val_loss: 7.9193\n",
      "Epoch 65/70\n",
      "542/542 [==============================] - 23s 43ms/step - loss: 2.4017 - val_loss: 7.0715\n",
      "Epoch 66/70\n",
      "542/542 [==============================] - 23s 43ms/step - loss: 2.3587 - val_loss: 8.5268\n",
      "Epoch 67/70\n",
      "542/542 [==============================] - 23s 43ms/step - loss: 2.3499 - val_loss: 8.4274\n",
      "Epoch 68/70\n",
      "542/542 [==============================] - 23s 43ms/step - loss: 2.3265 - val_loss: 7.4128\n",
      "Epoch 69/70\n",
      "542/542 [==============================] - 23s 42ms/step - loss: 2.2771 - val_loss: 7.3359\n",
      "Epoch 70/70\n",
      "542/542 [==============================] - 23s 43ms/step - loss: 2.2225 - val_loss: 8.2333\n"
     ]
    }
   ],
   "source": [
    "history = model.fit(X, y, epochs=70, batch_size=32, validation_split=0.15)"
   ]
  },
  {
   "cell_type": "code",
   "execution_count": 18,
   "metadata": {},
   "outputs": [
    {
     "data": {
      "image/png": "[encoded data removed]",
      "text/plain": [
       "<Figure size 432x288 with 1 Axes>"
      ]
     },
     "metadata": {
      "needs_background": "light"
     },
     "output_type": "display_data"
    }
   ],
   "source": [
    "plot_loss(history)\n",
    "plt.show()"
   ]
  },
  {
   "cell_type": "code",
   "execution_count": 19,
   "metadata": {},
   "outputs": [],
   "source": [
    "file = open(\"/home/hamidraei/Odometry_project/test.txt\")\n",
    "speedTruthArrayString = file.readlines()\n",
    "speedTruthArray1 = []\n",
    "for numeric_string in speedTruthArrayString:\n",
    "    numeric_string = numeric_string.strip('\\n')\n",
    "    speedTruthArray1.append(float(numeric_string))"
   ]
  },
  {
   "cell_type": "code",
   "execution_count": 20,
   "metadata": {},
   "outputs": [
    {
     "data": {
      "text/plain": [
       "10798"
      ]
     },
     "execution_count": 20,
     "metadata": {},
     "output_type": "execute_result"
    }
   ],
   "source": [
    "len(speedTruthArray1)"
   ]
  },
  {
   "cell_type": "code",
   "execution_count": 21,
   "metadata": {},
   "outputs": [],
   "source": [
    "y_test = np.asarray(speedTruthArray1)\n",
    "\n"
   ]
  },
  {
   "cell_type": "code",
   "execution_count": 22,
   "metadata": {
    "scrolled": true
   },
   "outputs": [
    {
     "data": {
      "text/plain": [
       "(10798,)"
      ]
     },
     "execution_count": 22,
     "metadata": {},
     "output_type": "execute_result"
    }
   ],
   "source": [
    "y_test.shape"
   ]
  },
  {
   "cell_type": "code",
   "execution_count": 23,
   "metadata": {},
   "outputs": [],
   "source": [
    "y_test = np.reshape(y_test, (y_test.shape[0], 1))"
   ]
  },
  {
   "cell_type": "code",
   "execution_count": 24,
   "metadata": {},
   "outputs": [
    {
     "data": {
      "text/plain": [
       "(10798, 1)"
      ]
     },
     "execution_count": 24,
     "metadata": {},
     "output_type": "execute_result"
    }
   ],
   "source": [
    "y_test.shape"
   ]
  },
  {
   "cell_type": "code",
   "execution_count": 34,
   "metadata": {},
   "outputs": [
    {
     "name": "stdout",
     "output_type": "stream",
     "text": [
      "Successfully created the directory /home/hamidraei/Odometry_project/video_trained \n"
     ]
    }
   ],
   "source": [
    "path = \"/home/hamidraei/Odometry_project/video_trained\"\n",
    "\n",
    "try:\n",
    "    os.mkdir(path)\n",
    "except OSError:\n",
    "    print (\"Creation of the directory %s failed\" % path)\n",
    "else:\n",
    "    print (\"Successfully created the directory %s \" % path)"
   ]
  },
  {
   "cell_type": "code",
   "execution_count": null,
   "metadata": {},
   "outputs": [],
   "source": [
    "for i in range(10798):\n",
    "    A = cv2.imread(f'/home/hamidraei/Odometry_project/test_frames/{i}.jpg')\n",
    "    A = cv2.Canny(A, 100, 200)\n",
    "    height, width= A.shape\n",
    "    height_cutoff = height//2\n",
    "\n",
    "    x1 = A[height_cutoff:, :]\n",
    "    height_1,width_2=x1.shape\n",
    "    height_cutoff1 = (55*height_1)//100\n",
    "    x2 = x1[:height_cutoff1, :]\n",
    "    dim =(int(x2.shape[1]*0.5), int(x2.shape[0]*0.5))\n",
    "    resized = cv2.resize(x2, dim, interpolation = cv2.INTER_AREA)\n",
    "    cv2.imwrite(f'/home/hamidraei/Odometry_project/Cannyview_test/{i}.jpg', resized)\n",
    "    "
   ]
  },
  {
   "cell_type": "code",
   "execution_count": 33,
   "metadata": {},
   "outputs": [],
   "source": [
    "X2 = []"
   ]
  },
  {
   "cell_type": "code",
   "execution_count": 34,
   "metadata": {},
   "outputs": [],
   "source": [
    "for i in range(10797):\n",
    "    if i == 0:\n",
    "        A = cv2.imread(f'/home/hamidraei/Odometry_project/Cannyview_test/{i}.jpg', 0)\n",
    "        B = cv2.imread(f'/home/hamidraei/Odometry_project/Cannyview_test/{i+1}.jpg', 0)\n",
    "        flow = cv2.calcOpticalFlowFarneback(A, B,flow_mat,image_scale,nb_images,win_size,\n",
    "                                            nb_iterations,\n",
    "                                            deg_expansion,\n",
    "                                            STD,\n",
    "                                            0)\n",
    "        \n",
    "        \n",
    "        X2.append(flow)\n",
    "        X2.append(flow)\n",
    "        \n",
    "        #Q = cv2.imread('/home/hamidraei/Odometry_project/Cannyview/1.jpg')\n",
    "        #hsv = np.zeros_like(Q)\n",
    "        #hsv[..., 1] = 255\n",
    "        #mag, ang = cv2.cartToPolar(flow[..., 0], flow[..., 1])\n",
    "        #hsv[..., 0] = ang * 180 / np.pi / 2\n",
    "        #hsv[..., 2] = cv2.normalize(mag, None, 0, 255, cv2.NORM_MINMAX)\n",
    "        #C = cv2.cvtColor(hsv, cv2.COLOR_HSV2BGR)\n",
    "        #cv2.imwrite(f'/home/hamidraei/Odometry_project/Cannyview_opticalflow/{i}.jpg',C)\n",
    "        \n",
    "        #cv2.imwrite(f'/home/hamidraei/Odometry_project/Cannyview_opticalflow/{i+1}.jpg',C)\n",
    "                                            \n",
    "                                            \n",
    "                                            \n",
    "    else:\n",
    "        A = cv2.imread(f'/home/hamidraei/Odometry_project/Cannyview_test/{i}.jpg', 0)\n",
    "        B = cv2.imread(f'/home/hamidraei/Odometry_project/Cannyview_test/{i+1}.jpg', 0)\n",
    "        flow = cv2.calcOpticalFlowFarneback(A, B,flow_mat,image_scale,nb_images,win_size,\n",
    "                                            nb_iterations,\n",
    "                                            deg_expansion,\n",
    "                                            STD,\n",
    "                                            0)\n",
    "        \n",
    "        X2.append(flow)\n",
    "        \n",
    "        #Q = cv2.imread('/home/hamidraei/Odometry_project/Cannyview/1.jpg')\n",
    "        #hsv = np.zeros_like(Q)\n",
    "        #hsv[..., 1] = 255\n",
    "        #mag, ang = cv2.cartToPolar(flow[..., 0], flow[..., 1])\n",
    "        #hsv[..., 0] = ang * 180 / np.pi / 2\n",
    "        #hsv[..., 2] = cv2.normalize(mag, None, 0, 255, cv2.NORM_MINMAX)\n",
    "        #C = cv2.cvtColor(hsv, cv2.COLOR_HSV2BGR)\n",
    "        #cv2.imwrite(f'/home/hamidraei/Odometry_project/Cannyview_opticalflow/{i}.jpg',C)\n",
    "        \n",
    "        #cv2.imwrite(f'/home/hamidraei/Odometry_project/Cannyview_opticalflow/{i+1}.jpg',C)\n",
    "        #print(i)\n",
    "        \n",
    "    "
   ]
  },
  {
   "cell_type": "code",
   "execution_count": 35,
   "metadata": {},
   "outputs": [],
   "source": [
    "X_test = np.array(X2)"
   ]
  },
  {
   "cell_type": "code",
   "execution_count": 36,
   "metadata": {},
   "outputs": [
    {
     "data": {
      "text/plain": [
       "(10798, 66, 320, 2)"
      ]
     },
     "execution_count": 36,
     "metadata": {},
     "output_type": "execute_result"
    }
   ],
   "source": [
    "X_test.shape"
   ]
  },
  {
   "cell_type": "code",
   "execution_count": 37,
   "metadata": {},
   "outputs": [
    {
     "data": {
      "text/plain": [
       "array([[ 5.6933947],\n",
       "       [10.159789 ],\n",
       "       [11.468162 ],\n",
       "       [12.025223 ],\n",
       "       [10.300179 ],\n",
       "       [12.901959 ],\n",
       "       [12.92361  ],\n",
       "       [13.400366 ],\n",
       "       [13.0462885],\n",
       "       [14.275281 ]], dtype=float32)"
      ]
     },
     "execution_count": 37,
     "metadata": {},
     "output_type": "execute_result"
    }
   ],
   "source": [
    "model.predict(X_test[2080:2090])"
   ]
  },
  {
   "cell_type": "code",
   "execution_count": null,
   "metadata": {},
   "outputs": [],
   "source": [
    "y_test[2080:2090]"
   ]
  },
  {
   "cell_type": "code",
   "execution_count": null,
   "metadata": {},
   "outputs": [],
   "source": [
    "X[].shape"
   ]
  },
  {
   "cell_type": "code",
   "execution_count": 29,
   "metadata": {},
   "outputs": [],
   "source": [
    "XX = np.reshape(X[19003], (1, 66, 320, 2))"
   ]
  },
  {
   "cell_type": "code",
   "execution_count": 30,
   "metadata": {},
   "outputs": [
    {
     "data": {
      "text/plain": [
       "array([[7.553457]], dtype=float32)"
      ]
     },
     "execution_count": 30,
     "metadata": {},
     "output_type": "execute_result"
    }
   ],
   "source": [
    "model.predict(XX)"
   ]
  },
  {
   "cell_type": "code",
   "execution_count": null,
   "metadata": {},
   "outputs": [],
   "source": [
    "print(y[1])"
   ]
  },
  {
   "cell_type": "code",
   "execution_count": 28,
   "metadata": {},
   "outputs": [
    {
     "data": {
      "text/plain": [
       "(66, 320, 2)"
      ]
     },
     "execution_count": 28,
     "metadata": {},
     "output_type": "execute_result"
    }
   ],
   "source": [
    "X[1].shape"
   ]
  },
  {
   "cell_type": "code",
   "execution_count": 26,
   "metadata": {},
   "outputs": [],
   "source": [
    "import sys\n",
    "import time\n",
    "\n",
    "def delete_last_line():\n",
    "    \"Use this function to delete the last line in the STDOUT\"\n",
    "\n",
    "    #cursor up one line\n",
    "    sys.stdout.write('\\x1b[1A')\n",
    "\n",
    "    #delete last line\n",
    "    sys.stdout.write('\\x1b[2K')\n"
   ]
  },
  {
   "cell_type": "code",
   "execution_count": 28,
   "metadata": {},
   "outputs": [],
   "source": [
    "from IPython.display import clear_output"
   ]
  },
  {
   "cell_type": "code",
   "execution_count": 43,
   "metadata": {},
   "outputs": [],
   "source": [
    "import time\n",
    "import sys\n",
    "for i in range(12400, 14000):\n",
    "    A = cv2.imread(f'/home/hamidraei/Odometry_project/train_frames/{i}.jpg')\n",
    "    \n",
    "    XX = np.reshape(X[i], (1, 66, 320, 2))\n",
    "    pred = model.predict(XX)\n",
    "    act = y[i]\n",
    "    #print(pred, end=\"\")\n",
    "    #sys.stdout.flush()\n",
    "    #print(\"\")\n",
    "    #time.sleep(1)\n",
    "    #print('\\rHow is your day?') \n",
    "    #text = 'GeeksforGeeks'\n",
    "  \n",
    "    # font\n",
    "    font = cv2.FONT_HERSHEY_SIMPLEX\n",
    "  \n",
    "    # org\n",
    "    org = (5, 25)\n",
    "    org1 = (5, 45)\n",
    "  \n",
    "    # fontScale\n",
    "    fontScale = 0.5\n",
    "   \n",
    "    # Red color in BGR\n",
    "    color = (0, 0, 255)\n",
    "  \n",
    "    # Line thickness of 2 px\n",
    "    thickness = 1\n",
    "    text = f'The actual speed is {act} and the prediction is {pred}'\n",
    "    text1 =f' The difference between these two is {abs(act - pred)}'\n",
    "\n",
    "    #print(f'The actual speed is {act} and the prediction is {pred}')\n",
    "    #print(f'The differences between these two are {abs(act - pred)}')\n",
    "    A = cv2.putText(A, text, org, font, fontScale, \n",
    "                 color, thickness, cv2.LINE_AA, False)\n",
    "    A = cv2.putText(A, text1, org1, font, fontScale, \n",
    "                 color, thickness, cv2.LINE_AA, False)\n",
    "    cv2.imshow(\"A\", A)\n",
    "    #clear_output()\n",
    "    cv2.waitKey(2)\n",
    "    cv2.imwrite(f\"/home/hamidraei/Odometry_project/video_trained/{i-12400}.jpg\", A)\n",
    "    \n",
    "    \n",
    "cv2.destroyAllWindows()"
   ]
  },
  {
   "cell_type": "code",
   "execution_count": 44,
   "metadata": {},
   "outputs": [],
   "source": [
    "import cv2\n",
    "import numpy as np\n",
    "import glob\n",
    "\n",
    "img_array = []\n",
    "for i in range(1600):\n",
    "    img = cv2.imread(f'/home/hamidraei/Odometry_project/video_trained/{i}.jpg')\n",
    "    height, width, layers = img.shape\n",
    "    size = (width,height)\n",
    "    img_array.append(img)\n",
    "\n",
    "\n",
    "out = cv2.VideoWriter('main.mp4',cv2.VideoWriter_fourcc(*'DIVX'), 20, size)\n",
    " \n",
    "for i in range(len(img_array)):\n",
    "    out.write(img_array[i])\n",
    "out.release()"
   ]
  },
  {
   "cell_type": "code",
   "execution_count": null,
   "metadata": {},
   "outputs": [],
   "source": []
  }
 ],
 "metadata": {
  "kernelspec": {
   "display_name": "Python 3",
   "language": "python",
   "name": "python3"
  },
  "language_info": {
   "codemirror_mode": {
    "name": "ipython",
    "version": 3
   },
   "file_extension": ".py",
   "mimetype": "text/x-python",
   "name": "python",
   "nbconvert_exporter": "python",
   "pygments_lexer": "ipython3",
   "version": "3.7.6"
  }
 },
 "nbformat": 4,
 "nbformat_minor": 4
}
